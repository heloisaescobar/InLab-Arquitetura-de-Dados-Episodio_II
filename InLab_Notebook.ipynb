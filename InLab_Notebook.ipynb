{
 "cells": [
  {
   "cell_type": "markdown",
   "id": "3eeb5ff8",
   "metadata": {},
   "source": [
    "### OCI Data Science - Useful Tips\n",
    "<details>\n",
    "<summary><font size=\"2\">Check for Public Internet Access</font></summary>\n",
    "\n",
    "```python\n",
    "import requests\n",
    "response = requests.get(\"https://oracle.com\")\n",
    "assert response.status_code==200, \"Internet connection failed\"\n",
    "```\n",
    "</details>\n",
    "<details>\n",
    "<summary><font size=\"2\">Helpful Documentation </font></summary>\n",
    "<ul><li><a href=\"https://docs.cloud.oracle.com/en-us/iaas/data-science/using/data-science.htm\">Data Science Service Documentation</a></li>\n",
    "<li><a href=\"https://docs.cloud.oracle.com/iaas/tools/ads-sdk/latest/index.html\">ADS documentation</a></li>\n",
    "</ul>\n",
    "</details>\n",
    "<details>\n",
    "<summary><font size=\"2\">Typical Cell Imports and Settings for ADS</font></summary>\n",
    "\n",
    "```python\n",
    "%load_ext autoreload\n",
    "%autoreload 2\n",
    "%matplotlib inline\n",
    "\n",
    "import warnings\n",
    "warnings.filterwarnings('ignore')\n",
    "\n",
    "import logging\n",
    "logging.basicConfig(format='%(levelname)s:%(message)s', level=logging.ERROR)\n",
    "\n",
    "import ads\n",
    "from ads.dataset.factory import DatasetFactory\n",
    "from ads.automl.provider import OracleAutoMLProvider\n",
    "from ads.automl.driver import AutoML\n",
    "from ads.evaluations.evaluator import ADSEvaluator\n",
    "from ads.common.data import ADSData\n",
    "from ads.explanations.explainer import ADSExplainer\n",
    "from ads.explanations.mlx_global_explainer import MLXGlobalExplainer\n",
    "from ads.explanations.mlx_local_explainer import MLXLocalExplainer\n",
    "from ads.catalog.model import ModelCatalog\n",
    "from ads.common.model_artifact import ModelArtifact\n",
    "```\n",
    "</details>\n",
    "<details>\n",
    "<summary><font size=\"2\">Useful Environment Variables</font></summary>\n",
    "\n",
    "```python\n",
    "import os\n",
    "print(os.environ[\"NB_SESSION_COMPARTMENT_OCID\"])\n",
    "print(os.environ[\"PROJECT_OCID\"])\n",
    "print(os.environ[\"USER_OCID\"])\n",
    "print(os.environ[\"TENANCY_OCID\"])\n",
    "print(os.environ[\"NB_REGION\"])\n",
    "```\n",
    "</details>"
   ]
  },
  {
   "cell_type": "raw",
   "id": "34cd80c1",
   "metadata": {},
   "source": [
    "from platform import python_version\n",
    "print(python_version())"
   ]
  },
  {
   "cell_type": "markdown",
   "id": "5bcf593a",
   "metadata": {},
   "source": [
    "# Apache Spark + Delta Lake"
   ]
  },
  {
   "cell_type": "markdown",
   "id": "6fcdb7b8",
   "metadata": {},
   "source": [
    "<b>Delta Lake é um storage layer de código aberto que traz confiabilidade aos Data Lakes. O Delta Lake fornece transações ACID, scalable metadata handlig. O Delta Lake é executado no Data Lake existente e é compatível com as APIs do Apache Spark.</b>"
   ]
  },
  {
   "cell_type": "markdown",
   "id": "4889649c",
   "metadata": {},
   "source": [
    "## Importando Bibliotecas e Criando o Spark Session"
   ]
  },
  {
   "cell_type": "code",
   "execution_count": 1,
   "id": "71502bca",
   "metadata": {},
   "outputs": [],
   "source": [
    "# Import da Bibliotecas\n",
    "import os\n",
    "import pyspark\n",
    "from pyspark.sql import SparkSession\n",
    "from pyspark.sql.functions import expr\n",
    "from pyspark.sql.functions import col\n",
    "from pyspark.sql.functions import lit\n",
    "from delta import *"
   ]
  },
  {
   "cell_type": "code",
   "execution_count": 2,
   "id": "fdd1e950",
   "metadata": {},
   "outputs": [],
   "source": [
    "# Criação do Spark Session\n",
    "\n",
    "builder = pyspark.sql.SparkSession.builder.appName(\"AppInLabDelta\") \\\n",
    "    .config(\"spark.sql.extensions\", \"io.delta.sql.DeltaSparkSessionExtension\") \\\n",
    "    .config(\"spark.sql.catalog.spark_catalog\", \"org.apache.spark.sql.delta.catalog.DeltaCatalog\")\n",
    "\n",
    "spark = configure_spark_with_delta_pip(builder).getOrCreate()"
   ]
  },
  {
   "cell_type": "markdown",
   "id": "37edad25",
   "metadata": {},
   "source": [
    "## Carregando Dataset para o DataFrame"
   ]
  },
  {
   "cell_type": "code",
   "execution_count": 3,
   "id": "ca284849",
   "metadata": {},
   "outputs": [],
   "source": [
    "dataset = \"/home/datascience/DeltaInLab/dataset/characters_sw.csv\"\n",
    "\n",
    "df = spark.read\\\n",
    "        .format(\"csv\")\\\n",
    "        .option(\"delimiter\", \";\")\\\n",
    "        .option(\"InferSchema\", \"true\")\\\n",
    "        .option(\"header\", \"true\")\\\n",
    "        .load(dataset)"
   ]
  },
  {
   "cell_type": "code",
   "execution_count": 4,
   "id": "a5bd0809",
   "metadata": {},
   "outputs": [
    {
     "name": "stdout",
     "output_type": "stream",
     "text": [
      "+---+----------------+------+-----+----------+-----------+---------+----------+------+---------+--------------+\n",
      "| ID|            name|height| mass|hair_color| skin_color|eye_color|birth_year|gender|homeworld|       species|\n",
      "+---+----------------+------+-----+----------+-----------+---------+----------+------+---------+--------------+\n",
      "| 10|  Luke Skywalker|   172| 77.0|     blond|       fair|     blue|     19BBY|  male| Tatooine|         Human|\n",
      "| 20|           C-3PO|   167| 75.0|        NA|       gold|   yellow|    112BBY|    NA| Tatooine|         Droid|\n",
      "| 30|           R2-D2|    96| 32.0|        NA|white, blue|      red|     33BBY|    NA|    Naboo|         Droid|\n",
      "| 40|     Darth Vader|   202|136.0|      none|      white|   yellow|   41.9BBY|  male| Tatooine|         Human|\n",
      "| 50|     Leia Organa|   150| 49.0|     brown|      light|    brown|     19BBY|female| Alderaan|         Human|\n",
      "| 60|  Obi-Wan Kenobi|   182| 77.0|     white|       fair|blue-gray|     57BBY|  male|  Stewjon|         Human|\n",
      "| 70|Anakin Skywalker|   188| 84.0|     blond|       fair|     blue|   41.9BBY|  male| Tatooine|         Human|\n",
      "| 80|       Chewbacca|   228|112.0|     brown|         NA|     blue|    200BBY|  male| Kashyyyk|       Wookiee|\n",
      "| 90|        Han Solo|   180| 80.0|     brown|       fair|    brown|     29BBY|  male| Corellia|         Human|\n",
      "|100|            Yoda|    66| 17.0|     white|      green|    brown|    896BBY|  male|       NA|Yoda's species|\n",
      "|110|       Palpatine|   170| 75.0|      grey|       pale|   yellow|     82BBY|  male|    Naboo|         Human|\n",
      "|120|       Boba Fett|   183| 78.2|     black|       fair|    brown|   31.5BBY|  male|   Kamino|         Human|\n",
      "+---+----------------+------+-----+----------+-----------+---------+----------+------+---------+--------------+\n",
      "\n"
     ]
    }
   ],
   "source": [
    "df.show()"
   ]
  },
  {
   "cell_type": "markdown",
   "id": "9ddb9b7e",
   "metadata": {},
   "source": [
    "## Criando Estrutura Delta Table"
   ]
  },
  {
   "cell_type": "code",
   "execution_count": 5,
   "id": "bd304ec5",
   "metadata": {},
   "outputs": [],
   "source": [
    "df.select(\"ID\", \"name\", \"height\").write.format(\"delta\").save(\"/home/datascience/DeltaInLab/deltalab-table\")"
   ]
  },
  {
   "cell_type": "code",
   "execution_count": 6,
   "id": "8c432644",
   "metadata": {},
   "outputs": [
    {
     "name": "stdout",
     "output_type": "stream",
     "text": [
      "root\n",
      " |-- ID: integer (nullable = true)\n",
      " |-- name: string (nullable = true)\n",
      " |-- height: integer (nullable = true)\n",
      "\n"
     ]
    }
   ],
   "source": [
    "read_delta = spark.read.format(\"delta\").load(\"/home/datascience/DeltaInLab/deltalab-table\")\n",
    "read_delta.printSchema()"
   ]
  },
  {
   "cell_type": "code",
   "execution_count": 8,
   "id": "15f3e57b",
   "metadata": {},
   "outputs": [
    {
     "name": "stdout",
     "output_type": "stream",
     "text": [
      "+---+----------------+------+\n",
      "| ID|            name|height|\n",
      "+---+----------------+------+\n",
      "| 10|  Luke Skywalker|   172|\n",
      "| 20|           C-3PO|   167|\n",
      "| 30|           R2-D2|    96|\n",
      "| 40|     Darth Vader|   202|\n",
      "| 50|     Leia Organa|   150|\n",
      "| 60|  Obi-Wan Kenobi|   182|\n",
      "| 70|Anakin Skywalker|   188|\n",
      "| 80|       Chewbacca|   228|\n",
      "| 90|        Han Solo|   180|\n",
      "|100|            Yoda|    66|\n",
      "|110|       Palpatine|   170|\n",
      "|120|       Boba Fett|   183|\n",
      "+---+----------------+------+\n",
      "\n"
     ]
    }
   ],
   "source": [
    "deltaTable = DeltaTable.forPath(spark, \"/home/datascience/DeltaInLab/deltalab-table\")\n",
    "deltaTable.toDF().show()"
   ]
  },
  {
   "cell_type": "markdown",
   "id": "e9bfdc49",
   "metadata": {},
   "source": [
    "# Delta Lake Features\n",
    "\n",
    "## Schema Management - Schema Enforcement"
   ]
  },
  {
   "cell_type": "code",
   "execution_count": 9,
   "id": "785adaee",
   "metadata": {},
   "outputs": [
    {
     "name": "stdout",
     "output_type": "stream",
     "text": [
      "+---+--------------+------+\n",
      "| ID|          name|height|\n",
      "+---+--------------+------+\n",
      "| 10|Luke Skywalker|   172|\n",
      "| 20|         C-3PO|   167|\n",
      "+---+--------------+------+\n",
      "only showing top 2 rows\n",
      "\n"
     ]
    }
   ],
   "source": [
    "deltaTable.toDF().show(2)"
   ]
  },
  {
   "cell_type": "code",
   "execution_count": 10,
   "id": "2b82b0fb",
   "metadata": {},
   "outputs": [
    {
     "name": "stdout",
     "output_type": "stream",
     "text": [
      "root\n",
      " |-- ID: integer (nullable = true)\n",
      " |-- name: string (nullable = true)\n",
      " |-- height: integer (nullable = true)\n",
      "\n"
     ]
    }
   ],
   "source": [
    "read_delta.printSchema()"
   ]
  },
  {
   "cell_type": "code",
   "execution_count": 11,
   "id": "bf1dd90b",
   "metadata": {},
   "outputs": [
    {
     "ename": "AnalysisException",
     "evalue": "Failed to merge fields 'ID' and 'ID'. Failed to merge incompatible data types IntegerType and StringType",
     "output_type": "error",
     "traceback": [
      "\u001b[0;31m---------------------------------------------------------------------------\u001b[0m",
      "\u001b[0;31mAnalysisException\u001b[0m                         Traceback (most recent call last)",
      "\u001b[0;32m<ipython-input-11-b5fd45f30139>\u001b[0m in \u001b[0;36m<module>\u001b[0;34m\u001b[0m\n\u001b[1;32m      3\u001b[0m \u001b[0mnew_schema_deltaTable\u001b[0m \u001b[0;34m=\u001b[0m \u001b[0mspark\u001b[0m\u001b[0;34m.\u001b[0m\u001b[0mcreateDataFrame\u001b[0m\u001b[0;34m(\u001b[0m\u001b[0;34m[\u001b[0m\u001b[0;34m(\u001b[0m\u001b[0;36m130\u001b[0m\u001b[0;34m,\u001b[0m \u001b[0;34m\"Jabba Desilijic Tiure\"\u001b[0m\u001b[0;34m,\u001b[0m \u001b[0;36m175\u001b[0m\u001b[0;34m)\u001b[0m\u001b[0;34m]\u001b[0m\u001b[0;34m,\u001b[0m \u001b[0mnschema\u001b[0m\u001b[0;34m)\u001b[0m\u001b[0;34m.\u001b[0m\u001b[0mwithColumn\u001b[0m\u001b[0;34m(\u001b[0m\u001b[0;34m\"ID\"\u001b[0m\u001b[0;34m,\u001b[0m\u001b[0mexpr\u001b[0m\u001b[0;34m(\u001b[0m\u001b[0;34m\"cast(ID as String)\"\u001b[0m\u001b[0;34m)\u001b[0m\u001b[0;34m)\u001b[0m\u001b[0;34m\u001b[0m\u001b[0;34m\u001b[0m\u001b[0m\n\u001b[1;32m      4\u001b[0m \u001b[0;34m\u001b[0m\u001b[0m\n\u001b[0;32m----> 5\u001b[0;31m \u001b[0mnew_schema_deltaTable\u001b[0m\u001b[0;34m.\u001b[0m\u001b[0mwrite\u001b[0m\u001b[0;34m.\u001b[0m\u001b[0mformat\u001b[0m\u001b[0;34m(\u001b[0m\u001b[0;34m\"delta\"\u001b[0m\u001b[0;34m)\u001b[0m\u001b[0;34m.\u001b[0m\u001b[0mmode\u001b[0m\u001b[0;34m(\u001b[0m\u001b[0;34m\"append\"\u001b[0m\u001b[0;34m)\u001b[0m\u001b[0;34m.\u001b[0m\u001b[0msave\u001b[0m\u001b[0;34m(\u001b[0m\u001b[0;34m\"/home/datascience/DeltaInLab/deltalab-table\"\u001b[0m\u001b[0;34m)\u001b[0m\u001b[0;34m\u001b[0m\u001b[0;34m\u001b[0m\u001b[0m\n\u001b[0m",
      "\u001b[0;32m~/conda/pyspark30_p37_cpu_v5/lib/python3.7/site-packages/pyspark/sql/readwriter.py\u001b[0m in \u001b[0;36msave\u001b[0;34m(self, path, format, mode, partitionBy, **options)\u001b[0m\n\u001b[1;32m    738\u001b[0m             \u001b[0mself\u001b[0m\u001b[0;34m.\u001b[0m\u001b[0m_jwrite\u001b[0m\u001b[0;34m.\u001b[0m\u001b[0msave\u001b[0m\u001b[0;34m(\u001b[0m\u001b[0;34m)\u001b[0m\u001b[0;34m\u001b[0m\u001b[0;34m\u001b[0m\u001b[0m\n\u001b[1;32m    739\u001b[0m         \u001b[0;32melse\u001b[0m\u001b[0;34m:\u001b[0m\u001b[0;34m\u001b[0m\u001b[0;34m\u001b[0m\u001b[0m\n\u001b[0;32m--> 740\u001b[0;31m             \u001b[0mself\u001b[0m\u001b[0;34m.\u001b[0m\u001b[0m_jwrite\u001b[0m\u001b[0;34m.\u001b[0m\u001b[0msave\u001b[0m\u001b[0;34m(\u001b[0m\u001b[0mpath\u001b[0m\u001b[0;34m)\u001b[0m\u001b[0;34m\u001b[0m\u001b[0;34m\u001b[0m\u001b[0m\n\u001b[0m\u001b[1;32m    741\u001b[0m \u001b[0;34m\u001b[0m\u001b[0m\n\u001b[1;32m    742\u001b[0m     \u001b[0;34m@\u001b[0m\u001b[0msince\u001b[0m\u001b[0;34m(\u001b[0m\u001b[0;36m1.4\u001b[0m\u001b[0;34m)\u001b[0m\u001b[0;34m\u001b[0m\u001b[0;34m\u001b[0m\u001b[0m\n",
      "\u001b[0;32m~/conda/pyspark30_p37_cpu_v5/lib/python3.7/site-packages/py4j/java_gateway.py\u001b[0m in \u001b[0;36m__call__\u001b[0;34m(self, *args)\u001b[0m\n\u001b[1;32m   1308\u001b[0m         \u001b[0manswer\u001b[0m \u001b[0;34m=\u001b[0m \u001b[0mself\u001b[0m\u001b[0;34m.\u001b[0m\u001b[0mgateway_client\u001b[0m\u001b[0;34m.\u001b[0m\u001b[0msend_command\u001b[0m\u001b[0;34m(\u001b[0m\u001b[0mcommand\u001b[0m\u001b[0;34m)\u001b[0m\u001b[0;34m\u001b[0m\u001b[0;34m\u001b[0m\u001b[0m\n\u001b[1;32m   1309\u001b[0m         return_value = get_return_value(\n\u001b[0;32m-> 1310\u001b[0;31m             answer, self.gateway_client, self.target_id, self.name)\n\u001b[0m\u001b[1;32m   1311\u001b[0m \u001b[0;34m\u001b[0m\u001b[0m\n\u001b[1;32m   1312\u001b[0m         \u001b[0;32mfor\u001b[0m \u001b[0mtemp_arg\u001b[0m \u001b[0;32min\u001b[0m \u001b[0mtemp_args\u001b[0m\u001b[0;34m:\u001b[0m\u001b[0;34m\u001b[0m\u001b[0;34m\u001b[0m\u001b[0m\n",
      "\u001b[0;32m~/conda/pyspark30_p37_cpu_v5/lib/python3.7/site-packages/pyspark/sql/utils.py\u001b[0m in \u001b[0;36mdeco\u001b[0;34m(*a, **kw)\u001b[0m\n\u001b[1;32m    115\u001b[0m                 \u001b[0;31m# Hide where the exception came from that shows a non-Pythonic\u001b[0m\u001b[0;34m\u001b[0m\u001b[0;34m\u001b[0m\u001b[0;34m\u001b[0m\u001b[0m\n\u001b[1;32m    116\u001b[0m                 \u001b[0;31m# JVM exception message.\u001b[0m\u001b[0;34m\u001b[0m\u001b[0;34m\u001b[0m\u001b[0;34m\u001b[0m\u001b[0m\n\u001b[0;32m--> 117\u001b[0;31m                 \u001b[0;32mraise\u001b[0m \u001b[0mconverted\u001b[0m \u001b[0;32mfrom\u001b[0m \u001b[0;32mNone\u001b[0m\u001b[0;34m\u001b[0m\u001b[0;34m\u001b[0m\u001b[0m\n\u001b[0m\u001b[1;32m    118\u001b[0m             \u001b[0;32melse\u001b[0m\u001b[0;34m:\u001b[0m\u001b[0;34m\u001b[0m\u001b[0;34m\u001b[0m\u001b[0m\n\u001b[1;32m    119\u001b[0m                 \u001b[0;32mraise\u001b[0m\u001b[0;34m\u001b[0m\u001b[0;34m\u001b[0m\u001b[0m\n",
      "\u001b[0;31mAnalysisException\u001b[0m: Failed to merge fields 'ID' and 'ID'. Failed to merge incompatible data types IntegerType and StringType"
     ]
    }
   ],
   "source": [
    "nschema = read_delta.schema\n",
    "\n",
    "new_schema_deltaTable = spark.createDataFrame([(130, \"Jabba Desilijic Tiure\", 175)], nschema).withColumn(\"ID\",expr(\"cast(ID as String)\"))\n",
    "\n",
    "new_schema_deltaTable.write.format(\"delta\").mode(\"append\").save(\"/home/datascience/DeltaInLab/deltalab-table\")"
   ]
  },
  {
   "cell_type": "code",
   "execution_count": 12,
   "id": "0b0fc48a",
   "metadata": {},
   "outputs": [
    {
     "data": {
      "text/plain": [
       "<bound method DataFrame.printSchema of DataFrame[ID: string, name: string, height: int]>"
      ]
     },
     "execution_count": 12,
     "metadata": {},
     "output_type": "execute_result"
    }
   ],
   "source": [
    "new_schema_deltaTable.printSchema"
   ]
  },
  {
   "cell_type": "code",
   "execution_count": 13,
   "id": "2505b2cc",
   "metadata": {},
   "outputs": [
    {
     "name": "stdout",
     "output_type": "stream",
     "text": [
      "root\n",
      " |-- ID: integer (nullable = true)\n",
      " |-- name: string (nullable = true)\n",
      " |-- height: integer (nullable = true)\n",
      "\n"
     ]
    }
   ],
   "source": [
    "spark.read.format(\"delta\").load(\"/home/datascience/DeltaInLab/deltalab-table\").printSchema()"
   ]
  },
  {
   "cell_type": "markdown",
   "id": "17657f95",
   "metadata": {},
   "source": [
    "## Schema Management - Schema Evolution"
   ]
  },
  {
   "cell_type": "code",
   "execution_count": 14,
   "id": "302f1d5b",
   "metadata": {},
   "outputs": [],
   "source": [
    "nschema = read_delta.schema\n",
    "\n",
    "se_deltaTable = spark.createDataFrame([(130, \"Jabba Desilijic Tiure\", 175)], nschema).withColumn(\"species\", lit(\"Hutt\"))\n",
    "\n",
    "se_deltaTable.write.format(\"delta\").option(\"mergeSchema\", \"true\").mode(\"append\").save(\"/home/datascience/DeltaInLab/deltalab-table\")"
   ]
  },
  {
   "cell_type": "code",
   "execution_count": 15,
   "id": "5c462478",
   "metadata": {},
   "outputs": [
    {
     "name": "stdout",
     "output_type": "stream",
     "text": [
      "+---+--------------------+------+-------+\n",
      "| ID|                name|height|species|\n",
      "+---+--------------------+------+-------+\n",
      "|130|Jabba Desilijic T...|   175|   Hutt|\n",
      "| 10|      Luke Skywalker|   172|   null|\n",
      "| 20|               C-3PO|   167|   null|\n",
      "| 30|               R2-D2|    96|   null|\n",
      "| 40|         Darth Vader|   202|   null|\n",
      "| 50|         Leia Organa|   150|   null|\n",
      "| 60|      Obi-Wan Kenobi|   182|   null|\n",
      "| 70|    Anakin Skywalker|   188|   null|\n",
      "| 80|           Chewbacca|   228|   null|\n",
      "| 90|            Han Solo|   180|   null|\n",
      "|100|                Yoda|    66|   null|\n",
      "|110|           Palpatine|   170|   null|\n",
      "|120|           Boba Fett|   183|   null|\n",
      "+---+--------------------+------+-------+\n",
      "\n"
     ]
    }
   ],
   "source": [
    "spark.read.format(\"delta\").load(\"/home/datascience/DeltaInLab/deltalab-table\").show()\n"
   ]
  },
  {
   "cell_type": "code",
   "execution_count": 16,
   "id": "89d6a2c0",
   "metadata": {},
   "outputs": [
    {
     "name": "stdout",
     "output_type": "stream",
     "text": [
      "+---+--------------------+------+-------+\n",
      "| ID|                name|height|species|\n",
      "+---+--------------------+------+-------+\n",
      "|130|Jabba Desilijic T...|   175|   Hutt|\n",
      "+---+--------------------+------+-------+\n",
      "\n"
     ]
    }
   ],
   "source": [
    "spark.read.format(\"delta\").load(\"/home/datascience/DeltaInLab/deltalab-table\").where(\"ID = 130\").show()"
   ]
  },
  {
   "cell_type": "markdown",
   "id": "cfd8e8ae",
   "metadata": {},
   "source": [
    "# Delta Lake Features\n",
    "## Update - Inserts - Merge - Deletes"
   ]
  },
  {
   "cell_type": "code",
   "execution_count": 17,
   "id": "2883a73c",
   "metadata": {},
   "outputs": [
    {
     "name": "stdout",
     "output_type": "stream",
     "text": [
      "+---+--------------------+------+-------+\n",
      "| ID|                name|height|species|\n",
      "+---+--------------------+------+-------+\n",
      "| 10|      Luke Skywalker|   172|  Human|\n",
      "| 20|               C-3PO|   167|   null|\n",
      "| 30|               R2-D2|    96|   null|\n",
      "| 40|         Darth Vader|   202|   null|\n",
      "| 50|         Leia Organa|   150|   null|\n",
      "| 60|      Obi-Wan Kenobi|   182|   null|\n",
      "| 70|    Anakin Skywalker|   188|   null|\n",
      "| 80|           Chewbacca|   228|   null|\n",
      "| 90|            Han Solo|   180|   null|\n",
      "|100|                Yoda|    66|   null|\n",
      "|110|           Palpatine|   170|   null|\n",
      "|120|           Boba Fett|   183|   null|\n",
      "|130|Jabba Desilijic T...|   175|   Hutt|\n",
      "+---+--------------------+------+-------+\n",
      "\n"
     ]
    }
   ],
   "source": [
    "deltaTable = DeltaTable.forPath(spark, \"/home/datascience/DeltaInLab/deltalab-table\")\n",
    "\n",
    "#Update\n",
    "\n",
    "deltaTable.update(\n",
    "        condition = expr(\"ID = 10\"),\n",
    "        set = {\"species\" : lit(\"Human\")}            \n",
    ")\n",
    "\n",
    "deltaTable.toDF().show()"
   ]
  },
  {
   "cell_type": "code",
   "execution_count": 19,
   "id": "d3e5a86f",
   "metadata": {},
   "outputs": [
    {
     "name": "stdout",
     "output_type": "stream",
     "text": [
      "+---+--------------------+------+-------+\n",
      "| ID|                name|height|species|\n",
      "+---+--------------------+------+-------+\n",
      "| 10|      Luke Skywalker|   172|  Human|\n",
      "| 20|               C-3PO|   167|   null|\n",
      "| 30|               R2-D2|    96|   null|\n",
      "| 40|         Darth Vader|   202|   null|\n",
      "| 50|         Leia Organa|   150|   null|\n",
      "| 60|      Obi-Wan Kenobi|   182|   null|\n",
      "| 70|    Anakin Skywalker|   188|   null|\n",
      "| 80|           Chewbacca|   228|   null|\n",
      "| 90|            Han Solo|   180|   null|\n",
      "|100|                Yoda|    66|   null|\n",
      "|120|           Boba Fett|   183|   null|\n",
      "|130|Jabba Desilijic T...|   175|   Hutt|\n",
      "+---+--------------------+------+-------+\n",
      "\n"
     ]
    }
   ],
   "source": [
    "# Delete\n",
    "\n",
    "#deltaTable.delete(condition = expr(\"ID = 110\"))\n",
    "\n",
    "#deltaTable.toDF().where(\"ID = 110\").show()\n",
    "deltaTable.toDF().show()"
   ]
  },
  {
   "cell_type": "code",
   "execution_count": 20,
   "id": "99c5dd0f",
   "metadata": {},
   "outputs": [
    {
     "name": "stdout",
     "output_type": "stream",
     "text": [
      "+---+-----------+------+-------+\n",
      "| ID|       name|height|species|\n",
      "+---+-----------+------+-------+\n",
      "| 20|      C-3PO|   167|   null|\n",
      "| 30|      R2-D2|    96|   null|\n",
      "| 40|Darth Vader|   202|   null|\n",
      "+---+-----------+------+-------+\n",
      "\n"
     ]
    }
   ],
   "source": [
    "deltaTable.toDF().where(\"ID in (20, 30, 40)\").show()"
   ]
  },
  {
   "cell_type": "code",
   "execution_count": 21,
   "id": "57ef3bba",
   "metadata": {},
   "outputs": [
    {
     "name": "stdout",
     "output_type": "stream",
     "text": [
      "+---+-----------+------+-------+\n",
      "| ID|       name|height|species|\n",
      "+---+-----------+------+-------+\n",
      "| 20|      C-3PO|   167|  Droid|\n",
      "| 30|      R2-D2|    96|  Droid|\n",
      "| 40|Darth Vader|   202|  Human|\n",
      "|110|  Palpatine|   110|  Human|\n",
      "+---+-----------+------+-------+\n",
      "\n"
     ]
    }
   ],
   "source": [
    "# Merge\n",
    "\n",
    "schema = deltaTable.toDF().schema\n",
    "\n",
    "dfupdate = spark.createDataFrame([\n",
    "    (20, \"C-3PO\", 167, \"Droid\"),\n",
    "    (30, \"R2-D2\", 96, \"Droid\"),\n",
    "    (40, \"Darth Vader\", 202, \"Human\"),\n",
    "    (110, \"Palpatine\", 110, \"Human\")\n",
    "],schema)\n",
    "\n",
    "deltaTable.alias(\"primary\").merge(dfupdate.alias(\"updates\"), \"primary.ID = updates.ID\")\\\n",
    "                           .whenMatchedUpdate(set = {\"name\" : col(\"updates.name\"), \"height\" : col(\"updates.height\"), \"species\" : col(\"updates.species\")})\\\n",
    "                           .whenNotMatchedInsertAll()\\\n",
    "                           .execute()\n",
    "\n",
    "deltaTable.toDF().where(\"ID in (20, 30, 40, 110)\").show()"
   ]
  },
  {
   "cell_type": "markdown",
   "id": "8785b26f",
   "metadata": {},
   "source": [
    "# Delta Lake Features\n",
    "\n",
    "## Time Travel"
   ]
  },
  {
   "cell_type": "code",
   "execution_count": 22,
   "id": "3104593d",
   "metadata": {},
   "outputs": [
    {
     "name": "stdout",
     "output_type": "stream",
     "text": [
      "+-------+-------------------+------+--------+---------+--------------------+----+--------+---------+-----------+--------------+-------------+--------------------+------------+--------------------+\n",
      "|version|          timestamp|userId|userName|operation| operationParameters| job|notebook|clusterId|readVersion|isolationLevel|isBlindAppend|    operationMetrics|userMetadata|          engineInfo|\n",
      "+-------+-------------------+------+--------+---------+--------------------+----+--------+---------+-----------+--------------+-------------+--------------------+------------+--------------------+\n",
      "|      4|2023-02-17 17:40:50|  null|    null|    MERGE|{predicate -> (pr...|null|    null|     null|          3|  Serializable|        false|{numTargetRowsCop...|        null|Apache-Spark/3.2....|\n",
      "|      3|2023-02-17 17:37:28|  null|    null|   DELETE|{predicate -> [\"(...|null|    null|     null|          2|  Serializable|        false|{numRemovedFiles ...|        null|Apache-Spark/3.2....|\n",
      "|      2|2023-02-17 17:35:51|  null|    null|   UPDATE|{predicate -> (ID...|null|    null|     null|          1|  Serializable|        false|{numRemovedFiles ...|        null|Apache-Spark/3.2....|\n",
      "|      1|2023-02-17 17:33:55|  null|    null|    WRITE|{mode -> Append, ...|null|    null|     null|          0|  Serializable|         true|{numFiles -> 2, n...|        null|Apache-Spark/3.2....|\n",
      "|      0|2023-02-17 17:27:15|  null|    null|    WRITE|{mode -> ErrorIfE...|null|    null|     null|       null|  Serializable|         true|{numFiles -> 1, n...|        null|Apache-Spark/3.2....|\n",
      "+-------+-------------------+------+--------+---------+--------------------+----+--------+---------+-----------+--------------+-------------+--------------------+------------+--------------------+\n",
      "\n"
     ]
    }
   ],
   "source": [
    "deltaTable.history().show()"
   ]
  },
  {
   "cell_type": "code",
   "execution_count": 25,
   "id": "f15577d8",
   "metadata": {},
   "outputs": [
    {
     "name": "stdout",
     "output_type": "stream",
     "text": [
      "+---+--------------------+------+-------+\n",
      "| ID|                name|height|species|\n",
      "+---+--------------------+------+-------+\n",
      "| 10|      Luke Skywalker|   172|  Human|\n",
      "| 20|               C-3PO|   167|   null|\n",
      "| 30|               R2-D2|    96|   null|\n",
      "| 40|         Darth Vader|   202|   null|\n",
      "| 50|         Leia Organa|   150|   null|\n",
      "| 60|      Obi-Wan Kenobi|   182|   null|\n",
      "| 70|    Anakin Skywalker|   188|   null|\n",
      "| 80|           Chewbacca|   228|   null|\n",
      "| 90|            Han Solo|   180|   null|\n",
      "|100|                Yoda|    66|   null|\n",
      "|120|           Boba Fett|   183|   null|\n",
      "|130|Jabba Desilijic T...|   175|   Hutt|\n",
      "+---+--------------------+------+-------+\n",
      "\n"
     ]
    }
   ],
   "source": [
    "#spark.read.format(\"delta\").option(\"versionAsOf\", \"4\").load(\"/home/datascience/DeltaInLab/deltalab-table\").show()\n",
    "\n",
    "spark.read.format(\"delta\").option(\"timestampAsOf\", \"2023-02-17 17:37:28\").load(\"/home/datascience/DeltaInLab/deltalab-table\").show()\n"
   ]
  },
  {
   "cell_type": "code",
   "execution_count": 24,
   "id": "ddf2875d",
   "metadata": {},
   "outputs": [
    {
     "name": "stdout",
     "output_type": "stream",
     "text": [
      "+---+--------------------+------+-------+\n",
      "| ID|                name|height|species|\n",
      "+---+--------------------+------+-------+\n",
      "| 10|      Luke Skywalker|   172|  Human|\n",
      "| 20|               C-3PO|   167|   null|\n",
      "| 30|               R2-D2|    96|   null|\n",
      "| 40|         Darth Vader|   202|   null|\n",
      "| 50|         Leia Organa|   150|   null|\n",
      "| 60|      Obi-Wan Kenobi|   182|   null|\n",
      "| 70|    Anakin Skywalker|   188|   null|\n",
      "| 80|           Chewbacca|   228|   null|\n",
      "| 90|            Han Solo|   180|   null|\n",
      "|100|                Yoda|    66|   null|\n",
      "|120|           Boba Fett|   183|   null|\n",
      "|130|Jabba Desilijic T...|   175|   Hutt|\n",
      "+---+--------------------+------+-------+\n",
      "\n"
     ]
    }
   ],
   "source": [
    "spark.read.format(\"delta\").option(\"versionAsOf\", \"3\").load(\"/home/datascience/DeltaInLab/deltalab-table\").show()"
   ]
  },
  {
   "cell_type": "markdown",
   "id": "51fb67f3",
   "metadata": {},
   "source": [
    "# Obrigada!!"
   ]
  },
  {
   "cell_type": "markdown",
   "id": "84bf76a0",
   "metadata": {},
   "source": [
    "Delta - https://delta.io/\n",
    "<br>\n",
    "Delta Getting Started - https://delta.io/learn/getting-started\n",
    "<br>\n",
    "OCI Data Science - https://www.oracle.com/br/artificial-intelligence/data-science/"
   ]
  }
 ],
 "metadata": {
  "kernelspec": {
   "display_name": "Python [conda env:pyspark30_p37_cpu_v5]",
   "language": "python",
   "name": "conda-env-pyspark30_p37_cpu_v5-py"
  },
  "language_info": {
   "codemirror_mode": {
    "name": "ipython",
    "version": 3
   },
   "file_extension": ".py",
   "mimetype": "text/x-python",
   "name": "python",
   "nbconvert_exporter": "python",
   "pygments_lexer": "ipython3",
   "version": "3.7.12"
  }
 },
 "nbformat": 4,
 "nbformat_minor": 5
}
